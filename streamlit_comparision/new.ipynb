{
 "cells": [
  {
   "cell_type": "code",
   "execution_count": 1,
   "metadata": {},
   "outputs": [],
   "source": [
    "import numpy as np\n",
    "import cv2\n",
    "import matplotlib.pyplot as plt\n",
    "import pywt\n",
    "import os\n",
    "import copy\n"
   ]
  },
  {
   "cell_type": "markdown",
   "metadata": {},
   "source": [
    "## Exrtact frames"
   ]
  },
  {
   "cell_type": "code",
   "execution_count": 2,
   "metadata": {},
   "outputs": [
    {
     "name": "stdout",
     "output_type": "stream",
     "text": [
      "Extracted frame 0\n",
      "Extracted frame 1\n",
      "Extracted frame 2\n",
      "Extracted frame 3\n",
      "Extracted frame 4\n",
      "Extracted frame 5\n",
      "Extracted frame 6\n",
      "Extracted frame 7\n",
      "Extracted frame 8\n",
      "Extracted frame 9\n",
      "Extracted frame 10\n",
      "Extracted frame 11\n",
      "Extracted frame 12\n",
      "Extracted frame 13\n",
      "Extracted frame 14\n",
      "Extracted frame 15\n",
      "Extracted frame 16\n",
      "Extracted frame 17\n",
      "Extracted frame 18\n",
      "Extracted frame 19\n",
      "Extracted frame 20\n",
      "Extracted frame 21\n",
      "Extracted frame 22\n",
      "Extracted frame 23\n",
      "Extracted frame 24\n",
      "Extracted frame 25\n",
      "Extracted frame 26\n",
      "Extracted frame 27\n",
      "Extracted frame 28\n",
      "Extracted frame 29\n",
      "Extracted frame 30\n",
      "Extracted frame 31\n",
      "Extracted frame 32\n",
      "Extracted frame 33\n",
      "Extracted frame 34\n",
      "Extracted frame 35\n",
      "Extracted frame 36\n",
      "Extracted frame 37\n",
      "Extracted frame 38\n",
      "Extracted frame 39\n",
      "Extracted frame 40\n",
      "Extracted frame 41\n",
      "Extracted frame 42\n",
      "Extracted frame 43\n",
      "Extracted frame 44\n",
      "Extracted frame 45\n",
      "Extracted frame 46\n",
      "Extracted frame 47\n",
      "Extracted frame 48\n",
      "Extracted frame 49\n",
      "Extracted frame 50\n",
      "Extracted frame 51\n",
      "Extracted frame 52\n",
      "Extracted frame 53\n",
      "Extracted frame 54\n",
      "Extracted frame 55\n",
      "Extracted frame 56\n",
      "Extracted frame 57\n",
      "Extracted frame 58\n",
      "Extracted frame 59\n",
      "Extracted frame 60\n",
      "Frame extraction completed.\n"
     ]
    }
   ],
   "source": [
    "def extract_frames(video_path, output_folder):\n",
    "    if not os.path.exists(output_folder):\n",
    "        os.makedirs(output_folder)\n",
    "    \n",
    "    video_capture = cv2.VideoCapture(video_path)\n",
    "    fps = video_capture.get(cv2.CAP_PROP_FPS)\n",
    "\n",
    "    if not video_capture.isOpened():\n",
    "        print(f\"Error: Could not open video {video_path}\")\n",
    "        return\n",
    "    \n",
    "    frame_count = 0\n",
    "    while True:\n",
    "        ret, frame = video_capture.read()\n",
    "        if not ret:\n",
    "            break\n",
    "\n",
    "        frame_filename = os.path.join(output_folder, f\"frame_{frame_count:04d}.png\")\n",
    "        cv2.imwrite(frame_filename, frame)\n",
    "        \n",
    "        print(f\"Extracted frame {frame_count}\")\n",
    "        frame_count += 1\n",
    "        if frame_count > 60:\n",
    "         break\n",
    "    \n",
    "    video_capture.release()\n",
    "    print(\"Frame extraction completed.\")\n",
    "    return fps\n",
    "\n",
    "frame_rate = extract_frames('test_video.mp4', 'extracted_frames')"
   ]
  },
  {
   "cell_type": "markdown",
   "metadata": {},
   "source": [
    "## create watermark"
   ]
  },
  {
   "cell_type": "code",
   "execution_count": 8,
   "metadata": {},
   "outputs": [
    {
     "data": {
      "text/plain": [
       "<matplotlib.image.AxesImage at 0x2a6dd626150>"
      ]
     },
     "execution_count": 8,
     "metadata": {},
     "output_type": "execute_result"
    },
    {
     "data": {
      "image/png": "[encoded data removed]",
      "text/plain": [
       "<Figure size 640x480 with 1 Axes>"
      ]
     },
     "metadata": {},
     "output_type": "display_data"
    }
   ],
   "source": [
    "def create_watermark(shape,seed=42):\n",
    "    np.random.seed(seed)  \n",
    "    return np.random.randint(0, 2, shape, dtype=np.uint8)\n",
    "\n",
    "wartermark = create_watermark((13,8))\n",
    "plt.imshow(wartermark, cmap='gray')"
   ]
  },
  {
   "cell_type": "markdown",
   "metadata": {},
   "source": [
    "## DWT"
   ]
  },
  {
   "cell_type": "code",
   "execution_count": 9,
   "metadata": {},
   "outputs": [],
   "source": [
    "def dwt_transform(image, wavelet='haar'):\n",
    "    b, g, r = cv2.split(image.astype(np.float32))\n",
    "\n",
    "    coeffsb = pywt.dwt2(b, wavelet)\n",
    "    coeffsg = pywt.dwt2(g, wavelet)\n",
    "    coeffsr = pywt.dwt2(r, wavelet)\n",
    "    \n",
    "    LLb, (LHb, HLb, HHb) = coeffsb\n",
    "    LLg, (LHg, HLg, HHg) = coeffsg\n",
    "    LLr, (LHr, HLr, HHr) = coeffsr\n",
    "\n",
    "    LL = cv2.merge((LLb, LLg, LLr))\n",
    "    LH = cv2.merge((LHb, LHg, LHr))\n",
    "    HL = cv2.merge((HLb, HLg, HLr))\n",
    "    HH = cv2.merge((HHb, HHg, HHr))\n",
    "    \n",
    "    return (LL, (LH, HL, HH))\n",
    "\n",
    "def dwt_transform_inverse(coeffs, wavelet='haar'):\n",
    "    LL, (LH, HL, HH) = coeffs\n",
    "    LLb, LLg, LLr = cv2.split(LL)\n",
    "    LHb, LHg, LHr = cv2.split(LH)\n",
    "    HLb, HLg, HLr = cv2.split(HL)\n",
    "    HHb, HHg, HHr = cv2.split(HH)\n",
    "\n",
    "    coeffsb = (LLb, (LHb, HLb, HHb))\n",
    "    coeffsg = (LLg, (LHg, HLg, HHg))\n",
    "    coeffsr = (LLr, (LHr, HLr, HHr))\n",
    "\n",
    "    Ib = pywt.idwt2(coeffsb, wavelet=wavelet)\n",
    "    Ig = pywt.idwt2(coeffsg, wavelet=wavelet)\n",
    "    Ir = pywt.idwt2(coeffsr, wavelet=wavelet)\n",
    "\n",
    "    return cv2.merge((Ib, Ig, Ir))"
   ]
  },
  {
   "cell_type": "markdown",
   "metadata": {},
   "source": [
    "## Complex chaotic map, Embedding conditions and Inverse SVD"
   ]
  },
  {
   "cell_type": "code",
   "execution_count": 10,
   "metadata": {},
   "outputs": [],
   "source": [
    "def CFold_1(Z):\n",
    "    return np.mod(Z.real, 1) + (np.mod(Z.imag, 1)) * 1j\n",
    "\n",
    "def compute_Z1(a, c1, Z1, Z2):\n",
    "    return CFold_1(a * ((Z1 / Z2)**2) + c1)\n",
    "\n",
    "def compute_Z2(b, c2, Z1, Z2):    \n",
    "    return CFold_1(b * ((Z2 / Z1)**2) + c2)\n",
    "\n",
    "def compute_x_y(Z1, Z2, rcB4, ccB4):\n",
    "    return (int(np.floor(Z1.real * (10**14)) % rcB4), \n",
    "            int(np.floor(Z2.imag * (10**14)) % ccB4))\n",
    "\n",
    "def compute_channel(Z2, channels=3):\n",
    "    return int(np.floor(Z2.real * (10**14)) % channels)\n",
    "\n",
    "def compute_B(Z2):\n",
    "    return int(np.floor(Z2.imag * (10**14)) % 2)\n",
    "\n",
    "def condition_for_zero(Wij, U, T, epsilon):\n",
    "    return (Wij == 0 and \n",
    "            np.abs(U[0, 0]) > np.abs(U[1, 0]) + epsilon and \n",
    "            np.abs(np.abs(U[1, 0]) - np.abs(U[0, 0])) < T)\n",
    "\n",
    "def condition_for_one(Wij, U, T, epsilon):\n",
    "    return (Wij == 1 and  \n",
    "            np.abs(U[0, 0]) < np.abs(U[1, 0]) - epsilon and \n",
    "            np.abs(np.abs(U[1, 0]) - np.abs(U[0, 0])) > T)\n",
    "\n",
    "def inverse_svd(U, S, Vt):\n",
    "    S_full = np.zeros((U.shape[0], Vt.shape[0]))\n",
    "    np.fill_diagonal(S_full, S)\n",
    "    return np.dot(U, np.dot(S_full, Vt))"
   ]
  },
  {
   "cell_type": "markdown",
   "metadata": {},
   "source": [
    "## EMBED/EXTRACT"
   ]
  },
  {
   "cell_type": "code",
   "execution_count": 11,
   "metadata": {},
   "outputs": [],
   "source": [
    "def embedding_extraction_function(I=None, W=None, param=None, extract=True):\n",
    "    if I is None:\n",
    "        raise Exception(\"Frame not provided.\")\n",
    "    elif W is None:\n",
    "        raise Exception(\"Watermark not provided for Embedding/Extraction.\")\n",
    "    elif param is None:\n",
    "        raise Exception(\"Parameters not provided.\")\n",
    "\n",
    "    LL, (LH, HL, HH) = dwt_transform(I)    \n",
    "    rc, cc, channels = LL.shape\n",
    "    rcB4, ccB4 = rc // 4, cc // 4\n",
    "\n",
    "    mask = np.zeros((rcB4, ccB4, channels))     \n",
    "\n",
    "\n",
    "    epsilon = 0#1e-6\n",
    "\n",
    "    for i in range(param['W_shape'][0]):\n",
    "        for j in range(param['W_shape'][1]):\n",
    "            while True:\n",
    "                Z1_next = compute_Z1(a=param['a'], \n",
    "                                     c1=param['c1'], \n",
    "                                     Z1=param['Z1_history'][-1], \n",
    "                                     Z2=param['Z2_history'][-1])\n",
    "                Z2_next = compute_Z2(b=param['b'], \n",
    "                                     c2=param['c2'], \n",
    "                                     Z1=param['Z1_history'][-1], \n",
    "                                     Z2=param['Z2_history'][-1])\n",
    "\n",
    "                param['Z1_history'].append(Z1_next)\n",
    "                param['Z2_history'].append(Z2_next)\n",
    "\n",
    "                x, y = compute_x_y(Z1=Z1_next, \n",
    "                                   Z2=Z2_next, \n",
    "                                   rcB4=rcB4, \n",
    "                                   ccB4=ccB4)\n",
    "\n",
    "                channel = compute_channel(Z2=Z2_next)\n",
    "\n",
    "                B = compute_B(Z2=Z2_next)\n",
    "                \n",
    "                if mask[x, y, channel] == 0:\n",
    "                    break\n",
    "\n",
    "            block = LL[x * 4: x * 4 + 4, \n",
    "                       y * 4: y * 4 + 4,\n",
    "                       channel]\n",
    "            \n",
    "            U, S, Vt = np.linalg.svd(block, full_matrices=False)\n",
    "\n",
    "            # EMBEDDING\n",
    "            if not extract:\n",
    "                meanV = (np.abs(U[0, 0]) + np.abs(U[1, 0])) / 2\n",
    "\n",
    "                # XOR with B\n",
    "                Wij = W[i, j] ^ B\n",
    "\n",
    "                if Wij == 0:\n",
    "                    U[0, 0] = np.sign(U[0, 0]) * (meanV + param['T'] / 2)\n",
    "                    U[1, 0] = np.sign(U[1, 0]) * (meanV - param['T'] / 2)\n",
    "                else:\n",
    "                    U[0, 0] = np.sign(U[0, 0]) * (meanV - param['T'] / 2)\n",
    "                    U[1, 0] = np.sign(U[1, 0]) * (meanV + param['T'] / 2)\n",
    "\n",
    "                LL[x * 4: x * 4 + 4, \n",
    "                   y * 4: y * 4 + 4,\n",
    "                   channel] = inverse_svd(U, S, Vt)\n",
    "\n",
    "            # EXTRACTION\n",
    "            else:\n",
    "                if np.abs(U[0, 0]) - np.abs(U[1, 0]) > epsilon:\n",
    "                    extracted_bit = 0\n",
    "                else:\n",
    "                    extracted_bit = 1\n",
    "\n",
    "                B = compute_B(Z2=Z2_next)\n",
    "                W[i, j] = extracted_bit ^ B\n",
    "\n",
    "            mask[x, y, channel] = 1\n",
    "        \n",
    "    if not extract:\n",
    "        return dwt_transform_inverse((LL, (LH, HL, HH)))\n",
    "    elif extract:\n",
    "        return W\n",
    "\n",
    "def embed(frames_folder, param):\n",
    "    frame_paths = [frm for frm in os.listdir(frames_folder) if frm.endswith(\".png\")]\n",
    "    frame_paths.sort()\n",
    "    \n",
    "    param_copy = copy.deepcopy(param)\n",
    "    \n",
    "    watermark = create_watermark(shape=param_copy['W_shape'],seed=param_copy['seed'])\n",
    "\n",
    "    embedded_frames = []\n",
    "\n",
    "    for frame_path in frame_paths:\n",
    "        path = os.path.join(frames_folder, frame_path)\n",
    "        print(f\"Embedding Frame: {frame_path}\")\n",
    "\n",
    "        frame = cv2.imread(path)\n",
    "        if frame is None:\n",
    "            continue\n",
    "\n",
    "        embedded_frame = embedding_extraction_function(\n",
    "            I=frame, \n",
    "            W=watermark.copy(),  # Use a copy to avoid modifications\n",
    "            param=param_copy,\n",
    "            extract=False)\n",
    "        \n",
    "        embedded_frames.append(embedded_frame)\n",
    "\n",
    "    print(\"Completed Embedding Frames\")\n",
    "    return embedded_frames, watermark, param_copy\n"
   ]
  },
  {
   "cell_type": "markdown",
   "metadata": {},
   "source": [
    "## Initialise"
   ]
  },
  {
   "cell_type": "code",
   "execution_count": 12,
   "metadata": {},
   "outputs": [
    {
     "name": "stdout",
     "output_type": "stream",
     "text": [
      "Embedding Frame: frame_0000.png\n",
      "Embedding Frame: frame_0001.png\n",
      "Embedding Frame: frame_0002.png\n",
      "Embedding Frame: frame_0003.png\n",
      "Embedding Frame: frame_0004.png\n",
      "Embedding Frame: frame_0005.png\n",
      "Embedding Frame: frame_0006.png\n",
      "Embedding Frame: frame_0007.png\n",
      "Embedding Frame: frame_0008.png\n",
      "Embedding Frame: frame_0009.png\n",
      "Embedding Frame: frame_0010.png\n",
      "Embedding Frame: frame_0011.png\n",
      "Embedding Frame: frame_0012.png\n",
      "Embedding Frame: frame_0013.png\n",
      "Embedding Frame: frame_0014.png\n",
      "Embedding Frame: frame_0015.png\n",
      "Embedding Frame: frame_0016.png\n",
      "Embedding Frame: frame_0017.png\n",
      "Embedding Frame: frame_0018.png\n",
      "Embedding Frame: frame_0019.png\n",
      "Embedding Frame: frame_0020.png\n",
      "Embedding Frame: frame_0021.png\n",
      "Embedding Frame: frame_0022.png\n",
      "Embedding Frame: frame_0023.png\n",
      "Embedding Frame: frame_0024.png\n",
      "Embedding Frame: frame_0025.png\n",
      "Embedding Frame: frame_0026.png\n",
      "Embedding Frame: frame_0027.png\n",
      "Embedding Frame: frame_0028.png\n",
      "Embedding Frame: frame_0029.png\n",
      "Embedding Frame: frame_0030.png\n",
      "Embedding Frame: frame_0031.png\n",
      "Embedding Frame: frame_0032.png\n",
      "Embedding Frame: frame_0033.png\n",
      "Embedding Frame: frame_0034.png\n",
      "Embedding Frame: frame_0035.png\n",
      "Embedding Frame: frame_0036.png\n",
      "Embedding Frame: frame_0037.png\n",
      "Embedding Frame: frame_0038.png\n",
      "Embedding Frame: frame_0039.png\n",
      "Embedding Frame: frame_0040.png\n",
      "Embedding Frame: frame_0041.png\n",
      "Embedding Frame: frame_0042.png\n",
      "Embedding Frame: frame_0043.png\n",
      "Embedding Frame: frame_0044.png\n",
      "Embedding Frame: frame_0045.png\n",
      "Embedding Frame: frame_0046.png\n",
      "Embedding Frame: frame_0047.png\n",
      "Embedding Frame: frame_0048.png\n",
      "Embedding Frame: frame_0049.png\n",
      "Embedding Frame: frame_0050.png\n",
      "Embedding Frame: frame_0051.png\n",
      "Embedding Frame: frame_0052.png\n",
      "Embedding Frame: frame_0053.png\n",
      "Embedding Frame: frame_0054.png\n",
      "Embedding Frame: frame_0055.png\n",
      "Embedding Frame: frame_0056.png\n",
      "Embedding Frame: frame_0057.png\n",
      "Embedding Frame: frame_0058.png\n",
      "Embedding Frame: frame_0059.png\n",
      "Embedding Frame: frame_0060.png\n",
      "Completed Embedding Frames\n"
     ]
    },
    {
     "data": {
      "image/png": "[encoded data removed]",
      "text/plain": [
       "<Figure size 640x480 with 1 Axes>"
      ]
     },
     "metadata": {},
     "output_type": "display_data"
    }
   ],
   "source": [
    "param_initial = {\n",
    "    'a': 10.7, \n",
    "    'b': 11.2,\n",
    "    'Z1_history': [0.83 + 0.35j],\n",
    "    'Z2_history': [0.67 + 0.54j],\n",
    "    'c1': 0.53 + 0.26j, \n",
    "    'c2': 0.83 + 0.35j, \n",
    "    'T': 0.25,\n",
    "    'W_shape': (20, 20),\n",
    "    'seed': 30\n",
    "}\n",
    "\n",
    "embedded_frames, watermark, param_embed = embed(\n",
    "    frames_folder='extracted_frames', \n",
    "    param=param_initial)\n",
    "\n",
    "plt.imshow(watermark, cmap=plt.cm.gray)\n",
    "plt.title(\"Original Watermark\")\n",
    "plt.show()"
   ]
  },
  {
   "cell_type": "code",
   "execution_count": 13,
   "metadata": {},
   "outputs": [
    {
     "name": "stdout",
     "output_type": "stream",
     "text": [
      "Saved Frame 0\n",
      "Saved Frame 1\n",
      "Saved Frame 2\n",
      "Saved Frame 3\n",
      "Saved Frame 4\n",
      "Saved Frame 5\n",
      "Saved Frame 6\n",
      "Saved Frame 7\n",
      "Saved Frame 8\n",
      "Saved Frame 9\n",
      "Saved Frame 10\n",
      "Saved Frame 11\n",
      "Saved Frame 12\n",
      "Saved Frame 13\n",
      "Saved Frame 14\n",
      "Saved Frame 15\n",
      "Saved Frame 16\n",
      "Saved Frame 17\n",
      "Saved Frame 18\n",
      "Saved Frame 19\n",
      "Saved Frame 20\n",
      "Saved Frame 21\n",
      "Saved Frame 22\n",
      "Saved Frame 23\n",
      "Saved Frame 24\n",
      "Saved Frame 25\n",
      "Saved Frame 26\n",
      "Saved Frame 27\n",
      "Saved Frame 28\n",
      "Saved Frame 29\n",
      "Saved Frame 30\n",
      "Saved Frame 31\n",
      "Saved Frame 32\n",
      "Saved Frame 33\n",
      "Saved Frame 34\n",
      "Saved Frame 35\n",
      "Saved Frame 36\n",
      "Saved Frame 37\n",
      "Saved Frame 38\n",
      "Saved Frame 39\n",
      "Saved Frame 40\n",
      "Saved Frame 41\n",
      "Saved Frame 42\n",
      "Saved Frame 43\n",
      "Saved Frame 44\n",
      "Saved Frame 45\n",
      "Saved Frame 46\n",
      "Saved Frame 47\n",
      "Saved Frame 48\n",
      "Saved Frame 49\n",
      "Saved Frame 50\n",
      "Saved Frame 51\n",
      "Saved Frame 52\n",
      "Saved Frame 53\n",
      "Saved Frame 54\n",
      "Saved Frame 55\n",
      "Saved Frame 56\n",
      "Saved Frame 57\n",
      "Saved Frame 58\n",
      "Saved Frame 59\n",
      "Saved Frame 60\n",
      "Writing frame embedded_frames\\frame_0000.png\n",
      "Writing frame embedded_frames\\frame_0001.png\n",
      "Writing frame embedded_frames\\frame_0002.png\n",
      "Writing frame embedded_frames\\frame_0003.png\n",
      "Writing frame embedded_frames\\frame_0004.png\n",
      "Writing frame embedded_frames\\frame_0005.png\n",
      "Writing frame embedded_frames\\frame_0006.png\n",
      "Writing frame embedded_frames\\frame_0007.png\n",
      "Writing frame embedded_frames\\frame_0008.png\n",
      "Writing frame embedded_frames\\frame_0009.png\n",
      "Writing frame embedded_frames\\frame_0010.png\n",
      "Writing frame embedded_frames\\frame_0011.png\n",
      "Writing frame embedded_frames\\frame_0012.png\n",
      "Writing frame embedded_frames\\frame_0013.png\n",
      "Writing frame embedded_frames\\frame_0014.png\n",
      "Writing frame embedded_frames\\frame_0015.png\n",
      "Writing frame embedded_frames\\frame_0016.png\n",
      "Writing frame embedded_frames\\frame_0017.png\n",
      "Writing frame embedded_frames\\frame_0018.png\n",
      "Writing frame embedded_frames\\frame_0019.png\n",
      "Writing frame embedded_frames\\frame_0020.png\n",
      "Writing frame embedded_frames\\frame_0021.png\n",
      "Writing frame embedded_frames\\frame_0022.png\n",
      "Writing frame embedded_frames\\frame_0023.png\n",
      "Writing frame embedded_frames\\frame_0024.png\n",
      "Writing frame embedded_frames\\frame_0025.png\n",
      "Writing frame embedded_frames\\frame_0026.png\n",
      "Writing frame embedded_frames\\frame_0027.png\n",
      "Writing frame embedded_frames\\frame_0028.png\n",
      "Writing frame embedded_frames\\frame_0029.png\n",
      "Writing frame embedded_frames\\frame_0030.png\n",
      "Writing frame embedded_frames\\frame_0031.png\n",
      "Writing frame embedded_frames\\frame_0032.png\n",
      "Writing frame embedded_frames\\frame_0033.png\n",
      "Writing frame embedded_frames\\frame_0034.png\n",
      "Writing frame embedded_frames\\frame_0035.png\n",
      "Writing frame embedded_frames\\frame_0036.png\n",
      "Writing frame embedded_frames\\frame_0037.png\n",
      "Writing frame embedded_frames\\frame_0038.png\n",
      "Writing frame embedded_frames\\frame_0039.png\n",
      "Writing frame embedded_frames\\frame_0040.png\n",
      "Writing frame embedded_frames\\frame_0041.png\n",
      "Writing frame embedded_frames\\frame_0042.png\n",
      "Writing frame embedded_frames\\frame_0043.png\n",
      "Writing frame embedded_frames\\frame_0044.png\n",
      "Writing frame embedded_frames\\frame_0045.png\n",
      "Writing frame embedded_frames\\frame_0046.png\n",
      "Writing frame embedded_frames\\frame_0047.png\n",
      "Writing frame embedded_frames\\frame_0048.png\n",
      "Writing frame embedded_frames\\frame_0049.png\n",
      "Writing frame embedded_frames\\frame_0050.png\n",
      "Writing frame embedded_frames\\frame_0051.png\n",
      "Writing frame embedded_frames\\frame_0052.png\n",
      "Writing frame embedded_frames\\frame_0053.png\n",
      "Writing frame embedded_frames\\frame_0054.png\n",
      "Writing frame embedded_frames\\frame_0055.png\n",
      "Writing frame embedded_frames\\frame_0056.png\n",
      "Writing frame embedded_frames\\frame_0057.png\n",
      "Writing frame embedded_frames\\frame_0058.png\n",
      "Writing frame embedded_frames\\frame_0059.png\n",
      "Writing frame embedded_frames\\frame_0060.png\n",
      "Video creation completed. Saved to embedded_video.mp4\n"
     ]
    }
   ],
   "source": [
    "def save_frames(frames, output_folder):\n",
    "    if not os.path.exists(output_folder):\n",
    "        os.makedirs(output_folder)\n",
    "\n",
    "    for frame_count, frame in enumerate(frames):\n",
    "        frame_filename = os.path.join(output_folder, f\"frame_{frame_count:04d}.png\")\n",
    "        cv2.imwrite(frame_filename, frame)\n",
    "        print(f\"Saved Frame {frame_count}\")\n",
    "\n",
    "def create_video_from_images(image_folder, output_video_path, frame_rate):\n",
    "    images = [img for img in os.listdir(image_folder) if img.endswith(\".png\")]\n",
    "    images.sort()  \n",
    "    \n",
    "    if not images:\n",
    "        print(\"No images found in the folder.\")\n",
    "        return\n",
    "    \n",
    "    first_image_path = os.path.join(image_folder, images[0])\n",
    "    frame = cv2.imread(first_image_path)\n",
    "    height, width, channels = frame.shape\n",
    "    \n",
    "    fourcc = cv2.VideoWriter_fourcc(*'mp4v')  \n",
    "    video_writer = cv2.VideoWriter(output_video_path, fourcc, frame_rate, (width, height))\n",
    "    \n",
    "    for image in images:\n",
    "        image_path = os.path.join(image_folder, image)\n",
    "        frame = cv2.imread(image_path)\n",
    "        \n",
    "        if frame is None:\n",
    "            print(f\"Error reading image {image_path}\")\n",
    "            continue\n",
    "        \n",
    "        video_writer.write(frame)\n",
    "        print(f\"Writing frame {image_path}\")\n",
    "    \n",
    "    video_writer.release()\n",
    "    print(f\"Video creation completed. Saved to {output_video_path}\")\n",
    "\n",
    "save_frames(frames=embedded_frames, output_folder='embedded_frames')\n",
    "\n",
    "create_video_from_images(\n",
    "    image_folder='embedded_frames', \n",
    "    output_video_path='embedded_video.mp4', \n",
    "    frame_rate=frame_rate)\n"
   ]
  },
  {
   "cell_type": "code",
   "execution_count": 14,
   "metadata": {},
   "outputs": [
    {
     "name": "stdout",
     "output_type": "stream",
     "text": [
      "Extracting watermark from Frame: frame_0000.png\n",
      "Extracting watermark from Frame: frame_0001.png\n",
      "Extracting watermark from Frame: frame_0002.png\n",
      "Extracting watermark from Frame: frame_0003.png\n",
      "Extracting watermark from Frame: frame_0004.png\n",
      "Extracting watermark from Frame: frame_0005.png\n",
      "Extracting watermark from Frame: frame_0006.png\n",
      "Extracting watermark from Frame: frame_0007.png\n",
      "Extracting watermark from Frame: frame_0008.png\n",
      "Extracting watermark from Frame: frame_0009.png\n",
      "Extracting watermark from Frame: frame_0010.png\n",
      "Extracting watermark from Frame: frame_0011.png\n",
      "Extracting watermark from Frame: frame_0012.png\n",
      "Extracting watermark from Frame: frame_0013.png\n",
      "Extracting watermark from Frame: frame_0014.png\n",
      "Extracting watermark from Frame: frame_0015.png\n",
      "Extracting watermark from Frame: frame_0016.png\n",
      "Extracting watermark from Frame: frame_0017.png\n",
      "Extracting watermark from Frame: frame_0018.png\n",
      "Extracting watermark from Frame: frame_0019.png\n",
      "Extracting watermark from Frame: frame_0020.png\n",
      "Extracting watermark from Frame: frame_0021.png\n",
      "Extracting watermark from Frame: frame_0022.png\n",
      "Extracting watermark from Frame: frame_0023.png\n",
      "Extracting watermark from Frame: frame_0024.png\n",
      "Extracting watermark from Frame: frame_0025.png\n",
      "Extracting watermark from Frame: frame_0026.png\n",
      "Extracting watermark from Frame: frame_0027.png\n",
      "Extracting watermark from Frame: frame_0028.png\n",
      "Extracting watermark from Frame: frame_0029.png\n",
      "Extracting watermark from Frame: frame_0030.png\n",
      "Extracting watermark from Frame: frame_0031.png\n",
      "Extracting watermark from Frame: frame_0032.png\n",
      "Extracting watermark from Frame: frame_0033.png\n",
      "Extracting watermark from Frame: frame_0034.png\n",
      "Extracting watermark from Frame: frame_0035.png\n",
      "Extracting watermark from Frame: frame_0036.png\n",
      "Extracting watermark from Frame: frame_0037.png\n",
      "Extracting watermark from Frame: frame_0038.png\n",
      "Extracting watermark from Frame: frame_0039.png\n",
      "Extracting watermark from Frame: frame_0040.png\n",
      "Extracting watermark from Frame: frame_0041.png\n",
      "Extracting watermark from Frame: frame_0042.png\n",
      "Extracting watermark from Frame: frame_0043.png\n",
      "Extracting watermark from Frame: frame_0044.png\n",
      "Extracting watermark from Frame: frame_0045.png\n",
      "Extracting watermark from Frame: frame_0046.png\n",
      "Extracting watermark from Frame: frame_0047.png\n",
      "Extracting watermark from Frame: frame_0048.png\n",
      "Extracting watermark from Frame: frame_0049.png\n",
      "Extracting watermark from Frame: frame_0050.png\n",
      "Extracting watermark from Frame: frame_0051.png\n",
      "Extracting watermark from Frame: frame_0052.png\n",
      "Extracting watermark from Frame: frame_0053.png\n",
      "Extracting watermark from Frame: frame_0054.png\n",
      "Extracting watermark from Frame: frame_0055.png\n",
      "Extracting watermark from Frame: frame_0056.png\n",
      "Extracting watermark from Frame: frame_0057.png\n",
      "Extracting watermark from Frame: frame_0058.png\n",
      "Extracting watermark from Frame: frame_0059.png\n",
      "Extracting watermark from Frame: frame_0060.png\n"
     ]
    },
    {
     "data": {
      "image/png": "[encoded data removed]",
      "text/plain": [
       "<Figure size 640x480 with 2 Axes>"
      ]
     },
     "metadata": {},
     "output_type": "display_data"
    },
    {
     "name": "stdout",
     "output_type": "stream",
     "text": [
      "Watermark extraction accuracy: 99.25%\n"
     ]
    }
   ],
   "source": [
    "def extract(frames_folder, param):\n",
    "    frame_paths = [frm for frm in os.listdir(frames_folder) if frm.endswith(\".png\")]\n",
    "    frame_paths.sort()\n",
    "    \n",
    "    param_copy = copy.deepcopy(param)\n",
    "    \n",
    "    watermark_extracted = np.zeros((param['W_shape'][0], param['W_shape'][1], len(frame_paths)), dtype=np.uint8)\n",
    "\n",
    "    for idx, frame_path in enumerate(frame_paths):\n",
    "        path = os.path.join(frames_folder, frame_path)\n",
    "        frame = cv2.imread(path)\n",
    "        if frame is None:\n",
    "            continue\n",
    "        print(f\"Extracting watermark from Frame: {frame_path}\")\n",
    "        W_extracted = np.zeros(param['W_shape'], dtype=np.uint8)\n",
    "        W_extracted = embedding_extraction_function(\n",
    "            I=frame, \n",
    "            W=W_extracted,\n",
    "            param=param_copy,\n",
    "            extract=True)\n",
    "        \n",
    "        watermark_extracted[:, :, idx] = W_extracted\n",
    "\n",
    "    W_final = np.median(watermark_extracted, axis=2)\n",
    "    W_final = np.round(W_final).astype(np.uint8)\n",
    "\n",
    "    return watermark_extracted, param_copy \n",
    "\n",
    "W_extracted, param_extract = extract(\n",
    "    frames_folder='embedded_frames',\n",
    "    param=param_initial)\n",
    "\n",
    "f,a = plt.subplots(1,2)\n",
    "\n",
    "a[0].imshow(watermark, cmap ='gray')\n",
    "a[0].set_title(\"Original\")\n",
    "a[1].imshow(W_extracted[:,:,-1], cmap=plt.cm.gray)\n",
    "a[1].set_title(\"Extracted Watermark\")\n",
    "plt.show()\n",
    "\n",
    "\n",
    "accuracy = np.mean(watermark == W_extracted[:,:,-1]) * 100\n",
    "print(f\"Watermark extraction accuracy: {accuracy:.2f}%\")\n"
   ]
  },
  {
   "cell_type": "markdown",
   "metadata": {},
   "source": [
    "### testing"
   ]
  },
  {
   "cell_type": "code",
   "execution_count": 42,
   "metadata": {},
   "outputs": [],
   "source": [
    "original = \"extracted_frames\"\n",
    "frame1 = os.listdir(original)\n",
    "ori_flt = []\n",
    "for i in range(len(frame1)):\n",
    "    frame = plt.imread(os.path.join(original,frame1[i]))\n",
    "    ori_flt.append(frame.flatten())\n"
   ]
  },
  {
   "cell_type": "code",
   "execution_count": 175,
   "metadata": {},
   "outputs": [
    {
     "data": {
      "text/plain": [
       "np.float32(0.40784314)"
      ]
     },
     "execution_count": 175,
     "metadata": {},
     "output_type": "execute_result"
    }
   ],
   "source": [
    "ori_flt[0][0]"
   ]
  },
  {
   "cell_type": "code",
   "execution_count": 43,
   "metadata": {},
   "outputs": [],
   "source": [
    "emd_flt = np.array([x.flatten()/255 for x in embedded_frames], dtype=np.float32)\n",
    "\n"
   ]
  },
  {
   "cell_type": "code",
   "execution_count": 174,
   "metadata": {},
   "outputs": [
    {
     "data": {
      "text/plain": [
       "np.float32(0.20784314)"
      ]
     },
     "execution_count": 174,
     "metadata": {},
     "output_type": "execute_result"
    }
   ],
   "source": [
    "emd_flt[0][0]"
   ]
  },
  {
   "cell_type": "code",
   "execution_count": 44,
   "metadata": {},
   "outputs": [
    {
     "data": {
      "text/plain": [
       "np.float32(0.052719474)"
      ]
     },
     "execution_count": 44,
     "metadata": {},
     "output_type": "execute_result"
    }
   ],
   "source": [
    "np.sum(ori_flt[0] - emd_flt[0])"
   ]
  },
  {
   "cell_type": "code",
   "execution_count": 45,
   "metadata": {},
   "outputs": [],
   "source": [
    "\n",
    "def MSE(org, emd):\n",
    "    sums= np.sum(np.square(org-emd))\n",
    "    \n",
    "    return sums/(len(org)*len(emd))\n",
    "\n"
   ]
  },
  {
   "cell_type": "code",
   "execution_count": 46,
   "metadata": {},
   "outputs": [
    {
     "name": "stdout",
     "output_type": "stream",
     "text": [
      "1.6140326e-08\n"
     ]
    }
   ],
   "source": [
    "\n",
    "dfds = MSE(ori_flt[0], emd_flt[0])\n",
    "print(dfds)\n",
    "\n"
   ]
  },
  {
   "cell_type": "code",
   "execution_count": 47,
   "metadata": {},
   "outputs": [
    {
     "name": "stdout",
     "output_type": "stream",
     "text": [
      "126.05168\n"
     ]
    }
   ],
   "source": [
    "\n",
    "def PSNR(MSE):\n",
    "    return 10*np.log10((255**2)/MSE)\n",
    "\n",
    "print(PSNR(dfds))\n",
    "\n",
    "\n",
    "\n"
   ]
  },
  {
   "cell_type": "code",
   "execution_count": 48,
   "metadata": {},
   "outputs": [],
   "source": [
    "def SSIM(org, emd, C1, C2):\n",
    "    mx = np.mean(org)\n",
    "    my = np.mean(emd)\n",
    "    sx = np.var(org)\n",
    "    sy = np.var(emd)\n",
    "    cov = np.cov(org, emd)\n",
    "    return ((2*mx*my + C1)*(2*cov + C2))/((mx**2 + my**2 + C1)*(sx+sy+C2))\n",
    "\n"
   ]
  },
  {
   "cell_type": "code",
   "execution_count": null,
   "metadata": {},
   "outputs": [],
   "source": []
  }
 ],
 "metadata": {
  "kernelspec": {
   "display_name": "env",
   "language": "python",
   "name": "python3"
  },
  "language_info": {
   "codemirror_mode": {
    "name": "ipython",
    "version": 3
   },
   "file_extension": ".py",
   "mimetype": "text/x-python",
   "name": "python",
   "nbconvert_exporter": "python",
   "pygments_lexer": "ipython3",
   "version": "3.12.6"
  }
 },
 "nbformat": 4,
 "nbformat_minor": 2
}
